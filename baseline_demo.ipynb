{
 "cells": [
  {
   "cell_type": "code",
   "execution_count": null,
   "id": "5867a45d",
   "metadata": {},
   "outputs": [],
   "source": [
    "%load_ext autoreload\n",
    "%autoreload 2"
   ]
  },
  {
   "cell_type": "code",
   "execution_count": null,
   "id": "8f818377",
   "metadata": {},
   "outputs": [],
   "source": [
    "import sys\n",
    "import numpy as np\n",
    "from src.preprocessing import process_dataset\n",
    "sys.path.append(\"src\")\n",
    "\n",
    "import preprocessing"
   ]
  },
  {
   "cell_type": "code",
   "execution_count": null,
   "id": "eba464f9",
   "metadata": {},
   "outputs": [],
   "source": [
    "!ls"
   ]
  },
  {
   "cell_type": "code",
   "execution_count": null,
   "id": "7cfdc765",
   "metadata": {},
   "outputs": [],
   "source": [
    "# Dataset label display\n",
    "from src.preprocessing import process_dataset\n",
    "import numpy as np\n",
    "\n",
    "all_X, all_y = [], []\n",
    "\n",
    "for d in [\"data/training-a/\", \"data/training-b/\", \"data/training-c/\", \"data/training-d/\", \"data/training-e/\", \"data/training-f/\"]:\n",
    "    X, y = process_dataset(d)\n",
    "    all_X.append(X)\n",
    "    all_y.append(y)\n",
    "\n",
    "X = np.vstack(all_X)\n",
    "y = np.hstack(all_y)\n",
    "\n",
    "print(\"Feature matrix shape:\", X.shape)\n",
    "print(\"Labels shape:\", y.shape)\n",
    "print(\"Unique labels:\", np.unique(y, return_counts=True))\n"
   ]
  },
  {
   "cell_type": "code",
   "execution_count": 31,
   "id": "3e702e3f",
   "metadata": {},
   "outputs": [
    {
     "name": "stdout",
     "output_type": "stream",
     "text": [
      "\n",
      "\u001b[1m[\u001b[0m\u001b[34;49mnotice\u001b[0m\u001b[1;39;49m]\u001b[0m\u001b[39;49m A new release of pip is available: \u001b[0m\u001b[31;49m25.1.1\u001b[0m\u001b[39;49m -> \u001b[0m\u001b[32;49m25.2\u001b[0m\n",
      "\u001b[1m[\u001b[0m\u001b[34;49mnotice\u001b[0m\u001b[1;39;49m]\u001b[0m\u001b[39;49m To update, run: \u001b[0m\u001b[32;49mpip install --upgrade pip\u001b[0m\n",
      "Note: you may need to restart the kernel to use updated packages.\n",
      "Original class distribution: (array([0, 1]), array([2575,  665]))\n",
      "Before resampling:\n",
      "Train: (array([0, 1]), array([2060,  532]))\n",
      "Test : (array([0, 1]), array([515, 133]))\n",
      "\n",
      "After resampling (train set):\n",
      "Train: (array([0, 1]), array([2060, 2060]))\n",
      "Test : (array([0, 1]), array([515, 133]))\n"
     ]
    }
   ],
   "source": [
    "# Install imbalanced-learn inside notebook\n",
    "%pip install -q imbalanced-learn\n",
    "\n",
    "import numpy as np\n",
    "from sklearn.model_selection import train_test_split\n",
    "from imblearn.over_sampling import RandomOverSampler\n",
    "\n",
    "# Assume X, y already ban gaye hain preprocessing se\n",
    "print(\"Original class distribution:\", np.unique(y, return_counts=True))\n",
    "\n",
    "# Train/test split (80/20)\n",
    "X_train, X_test, y_train, y_test = train_test_split(\n",
    "    X, y, test_size=0.2, random_state=42, stratify=y\n",
    ")\n",
    "\n",
    "print(\"Before resampling:\")\n",
    "print(\"Train:\", np.unique(y_train, return_counts=True))\n",
    "print(\"Test :\", np.unique(y_test, return_counts=True))\n",
    "\n",
    "# Oversampling (only on training set)\n",
    "ros = RandomOverSampler(random_state=42)\n",
    "X_train_res, y_train_res = ros.fit_resample(X_train, y_train)\n",
    "\n",
    "print(\"\\nAfter resampling (train set):\")\n",
    "print(\"Train:\", np.unique(y_train_res, return_counts=True))\n",
    "print(\"Test :\", np.unique(y_test, return_counts=True))\n"
   ]
  },
  {
   "cell_type": "code",
   "execution_count": 33,
   "id": "03dfc72e",
   "metadata": {},
   "outputs": [
    {
     "name": "stdout",
     "output_type": "stream",
     "text": [
      "Collecting hmmlearn\n",
      "  Downloading hmmlearn-0.3.3-cp312-cp312-manylinux_2_17_x86_64.manylinux2014_x86_64.whl.metadata (3.0 kB)\n",
      "Requirement already satisfied: numpy>=1.10 in /home/codespace/.local/lib/python3.12/site-packages (from hmmlearn) (2.3.3)\n",
      "Requirement already satisfied: scikit-learn!=0.22.0,>=0.16 in /home/codespace/.local/lib/python3.12/site-packages (from hmmlearn) (1.7.2)\n",
      "Requirement already satisfied: scipy>=0.19 in /home/codespace/.local/lib/python3.12/site-packages (from hmmlearn) (1.16.2)\n",
      "Requirement already satisfied: joblib>=1.2.0 in /home/codespace/.local/lib/python3.12/site-packages (from scikit-learn!=0.22.0,>=0.16->hmmlearn) (1.5.2)\n",
      "Requirement already satisfied: threadpoolctl>=3.1.0 in /home/codespace/.local/lib/python3.12/site-packages (from scikit-learn!=0.22.0,>=0.16->hmmlearn) (3.6.0)\n",
      "Downloading hmmlearn-0.3.3-cp312-cp312-manylinux_2_17_x86_64.manylinux2014_x86_64.whl (165 kB)\n",
      "Installing collected packages: hmmlearn\n",
      "Successfully installed hmmlearn-0.3.3\n",
      "\n",
      "\u001b[1m[\u001b[0m\u001b[34;49mnotice\u001b[0m\u001b[1;39;49m]\u001b[0m\u001b[39;49m A new release of pip is available: \u001b[0m\u001b[31;49m25.1.1\u001b[0m\u001b[39;49m -> \u001b[0m\u001b[32;49m25.2\u001b[0m\n",
      "\u001b[1m[\u001b[0m\u001b[34;49mnotice\u001b[0m\u001b[1;39;49m]\u001b[0m\u001b[39;49m To update, run: \u001b[0m\u001b[32;49mpip install --upgrade pip\u001b[0m\n",
      "Note: you may need to restart the kernel to use updated packages.\n"
     ]
    },
    {
     "name": "stderr",
     "output_type": "stream",
     "text": [
      "MultinomialHMM has undergone major changes. The previous version was implementing a CategoricalHMM (a special case of MultinomialHMM). This new implementation follows the standard definition for a Multinomial distribution (e.g. as in https://en.wikipedia.org/wiki/Multinomial_distribution). See these issues for details:\n",
      "https://github.com/hmmlearn/hmmlearn/issues/335\n",
      "https://github.com/hmmlearn/hmmlearn/issues/340\n"
     ]
    },
    {
     "name": "stdout",
     "output_type": "stream",
     "text": [
      "[2 0 3 0 3 0 3 0 3 0 3 0 3 0 3 0 3 0 3 0 3 0 3 0 3 0 3 0 3 0 3 0 3 0 3 0 3\n",
      " 0 3 0 3 0 3 0 3 0 3 0 3 0 3 0 3 0 3 0 3 0 3 0 3 0 3 0 3 0 3 0 3 0 3 0 3 0\n",
      " 3 0 3 0 3 0 3 0 3 0 3 0 3 0 3 0 3 0 3 0 3 0 3 0 3 0]\n"
     ]
    }
   ],
   "source": [
    "%pip install hmmlearn\n",
    "from src.segmentation import run_segmentation\n",
    "from src.preprocessing import load_wav\n",
    "\n",
    "fs, audio = load_wav(\"data/training-a/a0001.wav\")\n",
    "states = run_segmentation(audio, fs)\n",
    "print(states[:100])\n"
   ]
  }
 ],
 "metadata": {
  "kernelspec": {
   "display_name": "base",
   "language": "python",
   "name": "python3"
  },
  "language_info": {
   "codemirror_mode": {
    "name": "ipython",
    "version": 3
   },
   "file_extension": ".py",
   "mimetype": "text/x-python",
   "name": "python",
   "nbconvert_exporter": "python",
   "pygments_lexer": "ipython3",
   "version": "3.12.3"
  }
 },
 "nbformat": 4,
 "nbformat_minor": 5
}
