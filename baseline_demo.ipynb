{
 "cells": [
  {
   "cell_type": "code",
   "execution_count": null,
   "id": "5867a45d",
   "metadata": {},
   "outputs": [],
   "source": [
    "%load_ext autoreload\n",
    "%autoreload 2"
   ]
  },
  {
   "cell_type": "code",
   "execution_count": null,
   "id": "8f818377",
   "metadata": {},
   "outputs": [],
   "source": [
    "import sys\n",
    "import numpy as np\n",
    "from src.preprocessing import process_dataset\n",
    "sys.path.append(\"src\")\n",
    "\n",
    "import preprocessing"
   ]
  },
  {
   "cell_type": "code",
   "execution_count": null,
   "id": "eba464f9",
   "metadata": {},
   "outputs": [],
   "source": [
    "!ls"
   ]
  },
  {
   "cell_type": "code",
   "execution_count": 22,
   "id": "7cfdc765",
   "metadata": {},
   "outputs": [
    {
     "name": "stdout",
     "output_type": "stream",
     "text": [
      "=== Using UPDATED process_dataset ===\n"
     ]
    },
    {
     "name": "stdout",
     "output_type": "stream",
     "text": [
      "=== Using UPDATED process_dataset ===\n",
      "=== Using UPDATED process_dataset ===\n",
      "Feature matrix shape: (576, 4)\n",
      "Labels shape: (576,)\n",
      "Unique labels: (array([0]), array([576]))\n"
     ]
    }
   ],
   "source": [
    "from src.preprocessing import process_dataset\n",
    "import numpy as np\n",
    "\n",
    "all_X, all_y = [], []\n",
    "\n",
    "for d in [\"data/training-b/\", \"data/training-c/\", \"data/training-d/\"]:\n",
    "    X, y = process_dataset(d)\n",
    "    all_X.append(X)\n",
    "    all_y.append(y)\n",
    "\n",
    "X = np.vstack(all_X)\n",
    "y = np.hstack(all_y)\n",
    "\n",
    "print(\"Feature matrix shape:\", X.shape)\n",
    "print(\"Labels shape:\", y.shape)\n",
    "print(\"Unique labels:\", np.unique(y, return_counts=True))\n"
   ]
  }
 ],
 "metadata": {
  "kernelspec": {
   "display_name": "base",
   "language": "python",
   "name": "python3"
  },
  "language_info": {
   "codemirror_mode": {
    "name": "ipython",
    "version": 3
   },
   "file_extension": ".py",
   "mimetype": "text/x-python",
   "name": "python",
   "nbconvert_exporter": "python",
   "pygments_lexer": "ipython3",
   "version": "3.12.3"
  }
 },
 "nbformat": 4,
 "nbformat_minor": 5
}
