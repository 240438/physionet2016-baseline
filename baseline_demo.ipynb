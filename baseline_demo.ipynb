{
 "cells": [
  {
   "cell_type": "code",
   "execution_count": null,
   "id": "5867a45d",
   "metadata": {},
   "outputs": [],
   "source": [
    "%load_ext autoreload\n",
    "%autoreload 2"
   ]
  },
  {
   "cell_type": "code",
   "execution_count": null,
   "id": "8f818377",
   "metadata": {},
   "outputs": [],
   "source": [
    "import sys\n",
    "import numpy as np\n",
    "from src.preprocessing import process_dataset\n",
    "sys.path.append(\"src\")\n",
    "\n",
    "import preprocessing"
   ]
  },
  {
   "cell_type": "code",
   "execution_count": null,
   "id": "eba464f9",
   "metadata": {},
   "outputs": [],
   "source": [
    "!ls"
   ]
  },
  {
   "cell_type": "code",
   "execution_count": null,
   "id": "7cfdc765",
   "metadata": {},
   "outputs": [],
   "source": [
    "# Dataset label display\n",
    "from src.preprocessing import process_dataset\n",
    "import numpy as np\n",
    "\n",
    "all_X, all_y = [], []\n",
    "\n",
    "for d in [\"data/training-a/\", \"data/training-b/\", \"data/training-c/\", \"data/training-d/\", \"data/training-e/\", \"data/training-f/\"]:\n",
    "    X, y = process_dataset(d)\n",
    "    all_X.append(X)\n",
    "    all_y.append(y)\n",
    "\n",
    "X = np.vstack(all_X)\n",
    "y = np.hstack(all_y)\n",
    "\n",
    "print(\"Feature matrix shape:\", X.shape)\n",
    "print(\"Labels shape:\", y.shape)\n",
    "print(\"Unique labels:\", np.unique(y, return_counts=True))\n"
   ]
  },
  {
   "cell_type": "code",
   "execution_count": null,
   "id": "3e702e3f",
   "metadata": {},
   "outputs": [],
   "source": [
    "# Install imbalanced-learn inside notebook\n",
    "%pip install -q imbalanced-learn\n",
    "\n",
    "import numpy as np\n",
    "from sklearn.model_selection import train_test_split\n",
    "from imblearn.over_sampling import RandomOverSampler\n",
    "\n",
    "# Assume X, y already ban gaye hain preprocessing se\n",
    "print(\"Original class distribution:\", np.unique(y, return_counts=True))\n",
    "\n",
    "# Train/test split (80/20)\n",
    "X_train, X_test, y_train, y_test = train_test_split(\n",
    "    X, y, test_size=0.2, random_state=42, stratify=y\n",
    ")\n",
    "\n",
    "print(\"Before resampling:\")\n",
    "print(\"Train:\", np.unique(y_train, return_counts=True))\n",
    "print(\"Test :\", np.unique(y_test, return_counts=True))\n",
    "\n",
    "# Oversampling (only on training set)\n",
    "ros = RandomOverSampler(random_state=42)\n",
    "X_train_res, y_train_res = ros.fit_resample(X_train, y_train)\n",
    "\n",
    "print(\"\\nAfter resampling (train set):\")\n",
    "print(\"Train:\", np.unique(y_train_res, return_counts=True))\n",
    "print(\"Test :\", np.unique(y_test, return_counts=True))\n"
   ]
  },
  {
   "cell_type": "code",
   "execution_count": null,
   "id": "03dfc72e",
   "metadata": {},
   "outputs": [],
   "source": [
    "%pip install hmmlearn\n",
    "from src.segmentation import run_segmentation\n",
    "from src.preprocessing import load_wav\n",
    "\n",
    "fs, audio = load_wav(\"data/training-a/a0001.wav\")\n",
    "states = run_segmentation(audio, fs)\n",
    "print(states[:100])\n"
   ]
  }
 ],
 "metadata": {
  "kernelspec": {
   "display_name": "base",
   "language": "python",
   "name": "python3"
  },
  "language_info": {
   "codemirror_mode": {
    "name": "ipython",
    "version": 3
   },
   "file_extension": ".py",
   "mimetype": "text/x-python",
   "name": "python",
   "nbconvert_exporter": "python",
   "pygments_lexer": "ipython3",
   "version": "3.12.3"
  }
 },
 "nbformat": 4,
 "nbformat_minor": 5
}
